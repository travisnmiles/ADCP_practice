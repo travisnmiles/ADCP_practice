{
 "cells": [
  {
   "cell_type": "markdown",
   "metadata": {},
   "source": [
    "# Plotting ADCP Data"
   ]
  },
  {
   "cell_type": "markdown",
   "metadata": {},
   "source": [
    "This notebook was adapted from Dr. Nick Beird's integrated ocean observing class with his permission. Thanks, Nick!"
   ]
  },
  {
   "cell_type": "code",
   "execution_count": null,
   "metadata": {},
   "outputs": [],
   "source": [
    "# import sys\n",
    "# !conda install --yes --prefix {sys.prefix} xarray"
   ]
  },
  {
   "cell_type": "markdown",
   "metadata": {},
   "source": [
    "**We're adding a new package to our repertoire ... xarray!!** \n",
    "<br>\n",
    "Xarray is a package beloved by many for dealing with three+ dimensional data. It is similar to pandas in that it organizes our data in a neat and efficient way. While `pandas` is great for \"tabular\" data (think, something that you could put in an excel sheet) `xarray` is great for gridded data and building multi-dimensional data \"cubes\". Nerd-out on xarray facts here: https://docs.xarray.dev/en/stable/"
   ]
  },
  {
   "cell_type": "code",
   "execution_count": null,
   "metadata": {},
   "outputs": [],
   "source": [
    "import xarray as xr\n",
    "import matplotlib.pyplot as plt\n",
    "import cartopy.crs as ccrs #coordinate reference system\n",
    "import cartopy.feature as cfeature"
   ]
  },
  {
   "cell_type": "code",
   "execution_count": null,
   "metadata": {},
   "outputs": [],
   "source": [
    "ds = xr.open_dataset('os150bb.nc').transpose()\n",
    "#.transpose will switch the x and y coordinates, like transposing an array\n",
    "ds"
   ]
  },
  {
   "cell_type": "markdown",
   "metadata": {},
   "source": [
    "Notice how our dataset `ds` has both dimensions and coordinates. These will come in handy! Lets make a plot to visualize the data we have here. We can use dot indexing to index variables within our dataset. Using the `.plot` function on our xarray dataset, we can plot the `u` variable (east/west velocity) in just a few lines of code. The default `.plot` will plot the indicated variable against the dimensions of the dataset. It will even label your axes for you!"
   ]
  },
  {
   "cell_type": "code",
   "execution_count": null,
   "metadata": {},
   "outputs": [],
   "source": [
    "ds.u.plot(cmap='coolwarm', vmin = -1.5, vmax= 1.5)\n",
    "ax = plt.gca()\n",
    "ax.set_facecolor('k')\n",
    "plt.ylim([25,0])"
   ]
  },
  {
   "cell_type": "markdown",
   "metadata": {},
   "source": [
    "Notice that the colorbar is diverging becuase we have postive and negative values of `u`. Cannonically, postiive u is pointing eastward and negative u is pointing westward. <br>\n",
    "Cool! But where in the world are we? Let's make an aerial track plot to find out."
   ]
  },
  {
   "cell_type": "code",
   "execution_count": null,
   "metadata": {},
   "outputs": [],
   "source": [
    "# 'Mercator' represents lat and lon on a more realistic globe\n",
    "proj = ccrs.Mercator()\n",
    "# PlateCarree is the projection that your xarray is currently on\n",
    "data_crs = ccrs.PlateCarree()\n",
    "# create plot with the 'Mercator' projection\n",
    "ax = plt.subplot(projection = proj)\n",
    "\n",
    "plt.plot( ds.lon, ds.lat, transform = data_crs ) # need to \"transform\" data from PlateCaree to Mercator\n",
    "plt.xticks(rotation=45)\n",
    "\n",
    "ax.coastlines()\n",
    "ax.add_feature( cfeature.LAND, color='green' )\n",
    "\n",
    "ax.gridlines(draw_labels=True)\n",
    "\n",
    "ax.set_extent([-180, -150, 50, 75])"
   ]
  },
  {
   "cell_type": "markdown",
   "metadata": {},
   "source": [
    "The track goes back and forth over the same transect (see those two deep canyons on our first plot?) <br>\n",
    "We are going to select for just the first transect by indexing our xarray by time."
   ]
  },
  {
   "cell_type": "code",
   "execution_count": null,
   "metadata": {},
   "outputs": [],
   "source": [
    "transect1 = ds.sel(time = slice('2017-08-16','2017-08-17 12:00:00'))\n",
    "transect1"
   ]
  },
  {
   "cell_type": "markdown",
   "metadata": {},
   "source": [
    "We still have 30 depth cells in our dimensions list, but now we only have 432 timestamps."
   ]
  },
  {
   "cell_type": "code",
   "execution_count": null,
   "metadata": {},
   "outputs": [],
   "source": [
    "plt.pcolor(transect1.time, transect1.depth[:,1], transect1.v, vmin=-.75, vmax=.75, cmap= 'coolwarm')\n",
    "plt.colorbar()\n",
    "\n",
    "plt.ylim([120,0])\n",
    "plt.xticks(rotation = 45)"
   ]
  },
  {
   "cell_type": "markdown",
   "metadata": {},
   "source": [
    "Now, we are going to slice our dataset in the other dimension to get just the top depth cell (the surface) and plot a vector map of surface velocities across this transect."
   ]
  },
  {
   "cell_type": "code",
   "execution_count": null,
   "metadata": {},
   "outputs": [],
   "source": [
    "transect1.depth_cell # checking to see how the depth cells are indexed"
   ]
  },
  {
   "cell_type": "code",
   "execution_count": null,
   "metadata": {},
   "outputs": [],
   "source": [
    "surface_t1 = transect1.sel(depth_cell = 0) # select for the top bin of depth ##NOTE: you can only use '.sel' on ds dimensions\n",
    "surface_t1.depth.values # make sure we chose the right bin (i.e. that 0 = surface and not 0 = bottom)"
   ]
  },
  {
   "cell_type": "code",
   "execution_count": null,
   "metadata": {},
   "outputs": [],
   "source": [
    "surface_t1 # surface is now a dataset with one dimension"
   ]
  },
  {
   "cell_type": "markdown",
   "metadata": {},
   "source": [
    "Now that we have our indexed dataset, let's make a quiver plot. A quiver plot will convert the u and v components into a vector with magnitude and direction."
   ]
  },
  {
   "cell_type": "code",
   "execution_count": null,
   "metadata": {},
   "outputs": [],
   "source": [
    "plt.quiver(surface_t1.lon, surface_t1.lat, surface_t1.u, surface_t1.v)"
   ]
  },
  {
   "cell_type": "markdown",
   "metadata": {},
   "source": [
    "This plot looks a little busy, so I'm going to plot only every 10th datapoint."
   ]
  },
  {
   "cell_type": "code",
   "execution_count": null,
   "metadata": {},
   "outputs": [],
   "source": [
    "fig = plt.figure(figsize=(10.0, 10.0))\n",
    "\n",
    "plt.quiver(surface_t1.lon[::10], surface_t1.lat[::10], surface_t1.u[::10], surface_t1.v[::10])"
   ]
  },
  {
   "cell_type": "markdown",
   "metadata": {},
   "source": [
    "# Now it's your turn to make some plots"
   ]
  },
  {
   "cell_type": "markdown",
   "metadata": {},
   "source": [
    "Plot a second transect over the same bathymetric features. <br>\n",
    "Your second transect should be between '2017-08-09 16:00:00','2017-08-10 18:00:00' <br>\n",
    "<br>\n",
    "make the following plots: <br>\n",
    "(1) cruise track of the second transect in relation to nearby landmasses <br>\n",
    "(2) cross-section of the v component velocity <br>\n",
    "(3) a quiver plot of the surface velocities of the second transect\n",
    "<br>\n",
    "<br>\n",
    "How do the two transects differ?"
   ]
  }
 ],
 "metadata": {
  "kernelspec": {
   "display_name": "Python 3",
   "language": "python",
   "name": "python3"
  },
  "language_info": {
   "codemirror_mode": {
    "name": "ipython",
    "version": 3
   },
   "file_extension": ".py",
   "mimetype": "text/x-python",
   "name": "python",
   "nbconvert_exporter": "python",
   "pygments_lexer": "ipython3",
   "version": "3.7.4"
  }
 },
 "nbformat": 4,
 "nbformat_minor": 4
}
